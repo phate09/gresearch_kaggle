{
 "cells": [
  {
   "cell_type": "code",
   "execution_count": 1,
   "metadata": {
    "collapsed": true
   },
   "outputs": [],
   "source": [
    "import warnings\n",
    "import os\n",
    "import pandas as pd\n",
    "import numpy as np\n",
    "from sklearn.preprocessing import LabelEncoder,OneHotEncoder\n",
    "%matplotlib inline\n",
    "\n"
   ]
  },
  {
   "cell_type": "code",
   "execution_count": 4,
   "outputs": [],
   "source": [
    "PATH_TO_ALL_DATA = '../'"
   ],
   "metadata": {
    "collapsed": false,
    "pycharm": {
     "name": "#%%\n"
    }
   }
  },
  {
   "cell_type": "code",
   "execution_count": 5,
   "outputs": [
    {
     "name": "stdout",
     "output_type": "stream",
     "text": [
      "CPU times: user 16.6 s, sys: 1.03 s, total: 17.6 s\n",
      "Wall time: 18 s\n"
     ]
    }
   ],
   "source": [
    "%%time\n",
    "train_df = pd.read_csv(os.path.join(PATH_TO_ALL_DATA,'train.csv'))"
   ],
   "metadata": {
    "collapsed": false,
    "pycharm": {
     "name": "#%%\n"
    }
   }
  },
  {
   "cell_type": "code",
   "execution_count": 7,
   "outputs": [
    {
     "name": "stdout",
     "output_type": "stream",
     "text": [
      "CPU times: user 4.21 ms, sys: 4.01 ms, total: 8.22 ms\n",
      "Wall time: 7.35 ms\n"
     ]
    }
   ],
   "source": [
    "%%time\n",
    "asset_details_df = pd.read_csv(os.path.join(PATH_TO_ALL_DATA,'asset_details.csv'))"
   ],
   "metadata": {
    "collapsed": false,
    "pycharm": {
     "name": "#%%\n"
    }
   }
  },
  {
   "cell_type": "code",
   "execution_count": 9,
   "outputs": [
    {
     "data": {
      "text/plain": "    Asset_ID    Weight        Asset_Name\n0          2  2.397895      Bitcoin Cash\n1          0  4.304065      Binance Coin\n2          1  6.779922           Bitcoin\n3          5  1.386294            EOS.IO\n4          7  2.079442  Ethereum Classic\n5          6  5.894403          Ethereum\n6          9  2.397895          Litecoin\n7         11  1.609438            Monero\n8         13  1.791759              TRON\n9         12  2.079442           Stellar\n10         3  4.406719           Cardano\n11         8  1.098612              IOTA\n12        10  1.098612             Maker\n13         4  3.555348          Dogecoin",
      "text/html": "<div>\n<style scoped>\n    .dataframe tbody tr th:only-of-type {\n        vertical-align: middle;\n    }\n\n    .dataframe tbody tr th {\n        vertical-align: top;\n    }\n\n    .dataframe thead th {\n        text-align: right;\n    }\n</style>\n<table border=\"1\" class=\"dataframe\">\n  <thead>\n    <tr style=\"text-align: right;\">\n      <th></th>\n      <th>Asset_ID</th>\n      <th>Weight</th>\n      <th>Asset_Name</th>\n    </tr>\n  </thead>\n  <tbody>\n    <tr>\n      <th>0</th>\n      <td>2</td>\n      <td>2.397895</td>\n      <td>Bitcoin Cash</td>\n    </tr>\n    <tr>\n      <th>1</th>\n      <td>0</td>\n      <td>4.304065</td>\n      <td>Binance Coin</td>\n    </tr>\n    <tr>\n      <th>2</th>\n      <td>1</td>\n      <td>6.779922</td>\n      <td>Bitcoin</td>\n    </tr>\n    <tr>\n      <th>3</th>\n      <td>5</td>\n      <td>1.386294</td>\n      <td>EOS.IO</td>\n    </tr>\n    <tr>\n      <th>4</th>\n      <td>7</td>\n      <td>2.079442</td>\n      <td>Ethereum Classic</td>\n    </tr>\n    <tr>\n      <th>5</th>\n      <td>6</td>\n      <td>5.894403</td>\n      <td>Ethereum</td>\n    </tr>\n    <tr>\n      <th>6</th>\n      <td>9</td>\n      <td>2.397895</td>\n      <td>Litecoin</td>\n    </tr>\n    <tr>\n      <th>7</th>\n      <td>11</td>\n      <td>1.609438</td>\n      <td>Monero</td>\n    </tr>\n    <tr>\n      <th>8</th>\n      <td>13</td>\n      <td>1.791759</td>\n      <td>TRON</td>\n    </tr>\n    <tr>\n      <th>9</th>\n      <td>12</td>\n      <td>2.079442</td>\n      <td>Stellar</td>\n    </tr>\n    <tr>\n      <th>10</th>\n      <td>3</td>\n      <td>4.406719</td>\n      <td>Cardano</td>\n    </tr>\n    <tr>\n      <th>11</th>\n      <td>8</td>\n      <td>1.098612</td>\n      <td>IOTA</td>\n    </tr>\n    <tr>\n      <th>12</th>\n      <td>10</td>\n      <td>1.098612</td>\n      <td>Maker</td>\n    </tr>\n    <tr>\n      <th>13</th>\n      <td>4</td>\n      <td>3.555348</td>\n      <td>Dogecoin</td>\n    </tr>\n  </tbody>\n</table>\n</div>"
     },
     "execution_count": 9,
     "metadata": {},
     "output_type": "execute_result"
    }
   ],
   "source": [
    "asset_details_df.head(20)"
   ],
   "metadata": {
    "collapsed": false,
    "pycharm": {
     "name": "#%%\n"
    }
   }
  },
  {
   "cell_type": "code",
   "execution_count": 10,
   "outputs": [],
   "source": [
    "train_df['Asset_ID'] = train_df['Asset_ID']+1\n",
    "asset_details_df['Asset_ID'] = asset_details_df['Asset_ID']+1"
   ],
   "metadata": {
    "collapsed": false,
    "pycharm": {
     "name": "#%%\n"
    }
   }
  },
  {
   "cell_type": "code",
   "execution_count": 11,
   "outputs": [
    {
     "name": "stdout",
     "output_type": "stream",
     "text": [
      "CPU times: user 1.43 s, sys: 848 ms, total: 2.28 s\n",
      "Wall time: 2.28 s\n"
     ]
    }
   ],
   "source": [
    "%%time\n",
    "onehot_encoder = OneHotEncoder(categories='auto',sparse=False)\n",
    "encoded_categorical_columns = pd.DataFrame(onehot_encoder.fit_transform(train_df.Asset_ID.values.reshape(-1,1)))"
   ],
   "metadata": {
    "collapsed": false,
    "pycharm": {
     "name": "#%%\n"
    }
   }
  },
  {
   "cell_type": "code",
   "execution_count": 14,
   "outputs": [
    {
     "data": {
      "text/plain": "    0    1    2    3    4    5    6    7    8    9    10   11   12   13\n0  0.0  0.0  1.0  0.0  0.0  0.0  0.0  0.0  0.0  0.0  0.0  0.0  0.0  0.0\n1  1.0  0.0  0.0  0.0  0.0  0.0  0.0  0.0  0.0  0.0  0.0  0.0  0.0  0.0\n2  0.0  1.0  0.0  0.0  0.0  0.0  0.0  0.0  0.0  0.0  0.0  0.0  0.0  0.0\n3  0.0  0.0  0.0  0.0  0.0  1.0  0.0  0.0  0.0  0.0  0.0  0.0  0.0  0.0\n4  0.0  0.0  0.0  0.0  0.0  0.0  0.0  1.0  0.0  0.0  0.0  0.0  0.0  0.0\n5  0.0  0.0  0.0  0.0  0.0  0.0  1.0  0.0  0.0  0.0  0.0  0.0  0.0  0.0\n6  0.0  0.0  0.0  0.0  0.0  0.0  0.0  0.0  0.0  1.0  0.0  0.0  0.0  0.0\n7  0.0  0.0  0.0  0.0  0.0  0.0  0.0  0.0  0.0  0.0  0.0  1.0  0.0  0.0\n8  0.0  0.0  1.0  0.0  0.0  0.0  0.0  0.0  0.0  0.0  0.0  0.0  0.0  0.0\n9  1.0  0.0  0.0  0.0  0.0  0.0  0.0  0.0  0.0  0.0  0.0  0.0  0.0  0.0",
      "text/html": "<div>\n<style scoped>\n    .dataframe tbody tr th:only-of-type {\n        vertical-align: middle;\n    }\n\n    .dataframe tbody tr th {\n        vertical-align: top;\n    }\n\n    .dataframe thead th {\n        text-align: right;\n    }\n</style>\n<table border=\"1\" class=\"dataframe\">\n  <thead>\n    <tr style=\"text-align: right;\">\n      <th></th>\n      <th>0</th>\n      <th>1</th>\n      <th>2</th>\n      <th>3</th>\n      <th>4</th>\n      <th>5</th>\n      <th>6</th>\n      <th>7</th>\n      <th>8</th>\n      <th>9</th>\n      <th>10</th>\n      <th>11</th>\n      <th>12</th>\n      <th>13</th>\n    </tr>\n  </thead>\n  <tbody>\n    <tr>\n      <th>0</th>\n      <td>0.0</td>\n      <td>0.0</td>\n      <td>1.0</td>\n      <td>0.0</td>\n      <td>0.0</td>\n      <td>0.0</td>\n      <td>0.0</td>\n      <td>0.0</td>\n      <td>0.0</td>\n      <td>0.0</td>\n      <td>0.0</td>\n      <td>0.0</td>\n      <td>0.0</td>\n      <td>0.0</td>\n    </tr>\n    <tr>\n      <th>1</th>\n      <td>1.0</td>\n      <td>0.0</td>\n      <td>0.0</td>\n      <td>0.0</td>\n      <td>0.0</td>\n      <td>0.0</td>\n      <td>0.0</td>\n      <td>0.0</td>\n      <td>0.0</td>\n      <td>0.0</td>\n      <td>0.0</td>\n      <td>0.0</td>\n      <td>0.0</td>\n      <td>0.0</td>\n    </tr>\n    <tr>\n      <th>2</th>\n      <td>0.0</td>\n      <td>1.0</td>\n      <td>0.0</td>\n      <td>0.0</td>\n      <td>0.0</td>\n      <td>0.0</td>\n      <td>0.0</td>\n      <td>0.0</td>\n      <td>0.0</td>\n      <td>0.0</td>\n      <td>0.0</td>\n      <td>0.0</td>\n      <td>0.0</td>\n      <td>0.0</td>\n    </tr>\n    <tr>\n      <th>3</th>\n      <td>0.0</td>\n      <td>0.0</td>\n      <td>0.0</td>\n      <td>0.0</td>\n      <td>0.0</td>\n      <td>1.0</td>\n      <td>0.0</td>\n      <td>0.0</td>\n      <td>0.0</td>\n      <td>0.0</td>\n      <td>0.0</td>\n      <td>0.0</td>\n      <td>0.0</td>\n      <td>0.0</td>\n    </tr>\n    <tr>\n      <th>4</th>\n      <td>0.0</td>\n      <td>0.0</td>\n      <td>0.0</td>\n      <td>0.0</td>\n      <td>0.0</td>\n      <td>0.0</td>\n      <td>0.0</td>\n      <td>1.0</td>\n      <td>0.0</td>\n      <td>0.0</td>\n      <td>0.0</td>\n      <td>0.0</td>\n      <td>0.0</td>\n      <td>0.0</td>\n    </tr>\n    <tr>\n      <th>5</th>\n      <td>0.0</td>\n      <td>0.0</td>\n      <td>0.0</td>\n      <td>0.0</td>\n      <td>0.0</td>\n      <td>0.0</td>\n      <td>1.0</td>\n      <td>0.0</td>\n      <td>0.0</td>\n      <td>0.0</td>\n      <td>0.0</td>\n      <td>0.0</td>\n      <td>0.0</td>\n      <td>0.0</td>\n    </tr>\n    <tr>\n      <th>6</th>\n      <td>0.0</td>\n      <td>0.0</td>\n      <td>0.0</td>\n      <td>0.0</td>\n      <td>0.0</td>\n      <td>0.0</td>\n      <td>0.0</td>\n      <td>0.0</td>\n      <td>0.0</td>\n      <td>1.0</td>\n      <td>0.0</td>\n      <td>0.0</td>\n      <td>0.0</td>\n      <td>0.0</td>\n    </tr>\n    <tr>\n      <th>7</th>\n      <td>0.0</td>\n      <td>0.0</td>\n      <td>0.0</td>\n      <td>0.0</td>\n      <td>0.0</td>\n      <td>0.0</td>\n      <td>0.0</td>\n      <td>0.0</td>\n      <td>0.0</td>\n      <td>0.0</td>\n      <td>0.0</td>\n      <td>1.0</td>\n      <td>0.0</td>\n      <td>0.0</td>\n    </tr>\n    <tr>\n      <th>8</th>\n      <td>0.0</td>\n      <td>0.0</td>\n      <td>1.0</td>\n      <td>0.0</td>\n      <td>0.0</td>\n      <td>0.0</td>\n      <td>0.0</td>\n      <td>0.0</td>\n      <td>0.0</td>\n      <td>0.0</td>\n      <td>0.0</td>\n      <td>0.0</td>\n      <td>0.0</td>\n      <td>0.0</td>\n    </tr>\n    <tr>\n      <th>9</th>\n      <td>1.0</td>\n      <td>0.0</td>\n      <td>0.0</td>\n      <td>0.0</td>\n      <td>0.0</td>\n      <td>0.0</td>\n      <td>0.0</td>\n      <td>0.0</td>\n      <td>0.0</td>\n      <td>0.0</td>\n      <td>0.0</td>\n      <td>0.0</td>\n      <td>0.0</td>\n      <td>0.0</td>\n    </tr>\n  </tbody>\n</table>\n</div>"
     },
     "execution_count": 14,
     "metadata": {},
     "output_type": "execute_result"
    }
   ],
   "source": [
    "encoded_categorical_columns.head(10)"
   ],
   "metadata": {
    "collapsed": false,
    "pycharm": {
     "name": "#%%\n"
    }
   }
  },
  {
   "cell_type": "code",
   "execution_count": 15,
   "outputs": [
    {
     "ename": "ValueError",
     "evalue": "Columns must be same length as key",
     "output_type": "error",
     "traceback": [
      "\u001B[0;31m---------------------------------------------------------------------------\u001B[0m",
      "\u001B[0;31mValueError\u001B[0m                                Traceback (most recent call last)",
      "\u001B[0;32m/tmp/ipykernel_4941/1165283712.py\u001B[0m in \u001B[0;36m<module>\u001B[0;34m\u001B[0m\n\u001B[0;32m----> 1\u001B[0;31m \u001B[0mtrain_df\u001B[0m\u001B[0;34m[\u001B[0m\u001B[0;34m'Asset_ID'\u001B[0m\u001B[0;34m]\u001B[0m \u001B[0;34m=\u001B[0m \u001B[0mencoded_categorical_columns\u001B[0m\u001B[0;34m\u001B[0m\u001B[0;34m\u001B[0m\u001B[0m\n\u001B[0m",
      "\u001B[0;32m~/anaconda3/envs/gresearch_kaggle/lib/python3.7/site-packages/pandas/core/frame.py\u001B[0m in \u001B[0;36m__setitem__\u001B[0;34m(self, key, value)\u001B[0m\n\u001B[1;32m   3600\u001B[0m             \u001B[0mself\u001B[0m\u001B[0;34m.\u001B[0m\u001B[0m_setitem_array\u001B[0m\u001B[0;34m(\u001B[0m\u001B[0mkey\u001B[0m\u001B[0;34m,\u001B[0m \u001B[0mvalue\u001B[0m\u001B[0;34m)\u001B[0m\u001B[0;34m\u001B[0m\u001B[0;34m\u001B[0m\u001B[0m\n\u001B[1;32m   3601\u001B[0m         \u001B[0;32melif\u001B[0m \u001B[0misinstance\u001B[0m\u001B[0;34m(\u001B[0m\u001B[0mvalue\u001B[0m\u001B[0;34m,\u001B[0m \u001B[0mDataFrame\u001B[0m\u001B[0;34m)\u001B[0m\u001B[0;34m:\u001B[0m\u001B[0;34m\u001B[0m\u001B[0;34m\u001B[0m\u001B[0m\n\u001B[0;32m-> 3602\u001B[0;31m             \u001B[0mself\u001B[0m\u001B[0;34m.\u001B[0m\u001B[0m_set_item_frame_value\u001B[0m\u001B[0;34m(\u001B[0m\u001B[0mkey\u001B[0m\u001B[0;34m,\u001B[0m \u001B[0mvalue\u001B[0m\u001B[0;34m)\u001B[0m\u001B[0;34m\u001B[0m\u001B[0;34m\u001B[0m\u001B[0m\n\u001B[0m\u001B[1;32m   3603\u001B[0m         elif (\n\u001B[1;32m   3604\u001B[0m             \u001B[0mis_list_like\u001B[0m\u001B[0;34m(\u001B[0m\u001B[0mvalue\u001B[0m\u001B[0;34m)\u001B[0m\u001B[0;34m\u001B[0m\u001B[0;34m\u001B[0m\u001B[0m\n",
      "\u001B[0;32m~/anaconda3/envs/gresearch_kaggle/lib/python3.7/site-packages/pandas/core/frame.py\u001B[0m in \u001B[0;36m_set_item_frame_value\u001B[0;34m(self, key, value)\u001B[0m\n\u001B[1;32m   3727\u001B[0m             \u001B[0mlen_cols\u001B[0m \u001B[0;34m=\u001B[0m \u001B[0;36m1\u001B[0m \u001B[0;32mif\u001B[0m \u001B[0mis_scalar\u001B[0m\u001B[0;34m(\u001B[0m\u001B[0mcols\u001B[0m\u001B[0;34m)\u001B[0m \u001B[0;32melse\u001B[0m \u001B[0mlen\u001B[0m\u001B[0;34m(\u001B[0m\u001B[0mcols\u001B[0m\u001B[0;34m)\u001B[0m\u001B[0;34m\u001B[0m\u001B[0;34m\u001B[0m\u001B[0m\n\u001B[1;32m   3728\u001B[0m             \u001B[0;32mif\u001B[0m \u001B[0mlen_cols\u001B[0m \u001B[0;34m!=\u001B[0m \u001B[0mlen\u001B[0m\u001B[0;34m(\u001B[0m\u001B[0mvalue\u001B[0m\u001B[0;34m.\u001B[0m\u001B[0mcolumns\u001B[0m\u001B[0;34m)\u001B[0m\u001B[0;34m:\u001B[0m\u001B[0;34m\u001B[0m\u001B[0;34m\u001B[0m\u001B[0m\n\u001B[0;32m-> 3729\u001B[0;31m                 \u001B[0;32mraise\u001B[0m \u001B[0mValueError\u001B[0m\u001B[0;34m(\u001B[0m\u001B[0;34m\"Columns must be same length as key\"\u001B[0m\u001B[0;34m)\u001B[0m\u001B[0;34m\u001B[0m\u001B[0;34m\u001B[0m\u001B[0m\n\u001B[0m\u001B[1;32m   3730\u001B[0m \u001B[0;34m\u001B[0m\u001B[0m\n\u001B[1;32m   3731\u001B[0m             \u001B[0;31m# align right-hand-side columns if self.columns\u001B[0m\u001B[0;34m\u001B[0m\u001B[0;34m\u001B[0m\u001B[0;34m\u001B[0m\u001B[0m\n",
      "\u001B[0;31mValueError\u001B[0m: Columns must be same length as key"
     ]
    }
   ],
   "source": [
    "train_df['Asset_ID'] = encoded_categorical_columns"
   ],
   "metadata": {
    "collapsed": false,
    "pycharm": {
     "name": "#%%\n"
    }
   }
  },
  {
   "cell_type": "code",
   "execution_count": 16,
   "outputs": [
    {
     "data": {
      "text/plain": "    timestamp  Asset_ID  Count        Open        High         Low  \\\n0  1514764860         3   40.0   2376.5800   2399.5000   2357.1400   \n1  1514764860         1    5.0      8.5300      8.5300      8.5300   \n2  1514764860         2  229.0  13835.1940  14013.8000  13666.1100   \n3  1514764860         6   32.0      7.6596      7.6596      7.6567   \n4  1514764860         8    5.0     25.9200     25.9200     25.8740   \n\n        Close       Volume          VWAP    Target  \n0   2374.5900    19.233005   2373.116392 -0.004218  \n1      8.5300    78.380000      8.530000 -0.014399  \n2  13850.1760    31.550062  13827.062093 -0.014643  \n3      7.6576  6626.713370      7.657713 -0.013922  \n4     25.8770   121.087310     25.891363 -0.008264  ",
      "text/html": "<div>\n<style scoped>\n    .dataframe tbody tr th:only-of-type {\n        vertical-align: middle;\n    }\n\n    .dataframe tbody tr th {\n        vertical-align: top;\n    }\n\n    .dataframe thead th {\n        text-align: right;\n    }\n</style>\n<table border=\"1\" class=\"dataframe\">\n  <thead>\n    <tr style=\"text-align: right;\">\n      <th></th>\n      <th>timestamp</th>\n      <th>Asset_ID</th>\n      <th>Count</th>\n      <th>Open</th>\n      <th>High</th>\n      <th>Low</th>\n      <th>Close</th>\n      <th>Volume</th>\n      <th>VWAP</th>\n      <th>Target</th>\n    </tr>\n  </thead>\n  <tbody>\n    <tr>\n      <th>0</th>\n      <td>1514764860</td>\n      <td>3</td>\n      <td>40.0</td>\n      <td>2376.5800</td>\n      <td>2399.5000</td>\n      <td>2357.1400</td>\n      <td>2374.5900</td>\n      <td>19.233005</td>\n      <td>2373.116392</td>\n      <td>-0.004218</td>\n    </tr>\n    <tr>\n      <th>1</th>\n      <td>1514764860</td>\n      <td>1</td>\n      <td>5.0</td>\n      <td>8.5300</td>\n      <td>8.5300</td>\n      <td>8.5300</td>\n      <td>8.5300</td>\n      <td>78.380000</td>\n      <td>8.530000</td>\n      <td>-0.014399</td>\n    </tr>\n    <tr>\n      <th>2</th>\n      <td>1514764860</td>\n      <td>2</td>\n      <td>229.0</td>\n      <td>13835.1940</td>\n      <td>14013.8000</td>\n      <td>13666.1100</td>\n      <td>13850.1760</td>\n      <td>31.550062</td>\n      <td>13827.062093</td>\n      <td>-0.014643</td>\n    </tr>\n    <tr>\n      <th>3</th>\n      <td>1514764860</td>\n      <td>6</td>\n      <td>32.0</td>\n      <td>7.6596</td>\n      <td>7.6596</td>\n      <td>7.6567</td>\n      <td>7.6576</td>\n      <td>6626.713370</td>\n      <td>7.657713</td>\n      <td>-0.013922</td>\n    </tr>\n    <tr>\n      <th>4</th>\n      <td>1514764860</td>\n      <td>8</td>\n      <td>5.0</td>\n      <td>25.9200</td>\n      <td>25.9200</td>\n      <td>25.8740</td>\n      <td>25.8770</td>\n      <td>121.087310</td>\n      <td>25.891363</td>\n      <td>-0.008264</td>\n    </tr>\n  </tbody>\n</table>\n</div>"
     },
     "execution_count": 16,
     "metadata": {},
     "output_type": "execute_result"
    }
   ],
   "source": [
    "train_df.head()"
   ],
   "metadata": {
    "collapsed": false,
    "pycharm": {
     "name": "#%%\n"
    }
   }
  },
  {
   "cell_type": "code",
   "execution_count": 25,
   "outputs": [
    {
     "data": {
      "text/plain": "      timestamp  Asset_ID  Count       Open     High       Low      Close  \\\n2    1514764860         2  229.0  13835.194  14013.8  13666.11  13850.176   \n10   1514764920         2  235.0  13835.036  14052.3  13680.00  13828.102   \n18   1514764980         2  528.0  13823.900  14000.4  13601.00  13801.314   \n26   1514765040         2  435.0  13802.512  13999.0  13576.28  13768.040   \n34   1514765100         2  742.0  13766.000  13955.9  13554.44  13724.914   \n42   1514765160         2  554.0  13717.714  14000.7  13520.00  13717.112   \n50   1514765220         2  546.0  13720.922  14001.4  13501.01  13670.940   \n58   1514765280         2  437.0  13669.246  13914.6  13504.99  13721.348   \n66   1514765340         2  288.0  13713.412  13948.9  13539.99  13720.260   \n74   1514765400         2  270.0  13713.610  13948.5  13530.00  13719.902   \n82   1514765460         2  332.0  13719.018  13948.6  13400.01  13706.596   \n90   1514765520         2  251.0  13703.404  13902.8  13485.41  13690.992   \n98   1514765580         2  257.0  13690.790  13900.0  13473.47  13696.638   \n106  1514765640         2  243.0  13688.492  13876.0  13500.35  13697.658   \n114  1514765700         2  250.0  13702.502  13893.9  13505.00  13678.486   \n\n         Volume          VWAP    Target  \n2     31.550062  13827.062093 -0.014643  \n10    31.046432  13840.362591 -0.015037  \n18    55.061820  13806.068014 -0.010309  \n26    38.780529  13783.598101 -0.008999  \n34   108.501637  13735.586842 -0.008079  \n42    70.805776  13706.952030 -0.004422  \n50    70.762103  13683.843336 -0.008873  \n58    78.298555  13701.600413 -0.008492  \n66    60.100796  13720.524584 -0.006282  \n74    56.578007  13711.904983 -0.003889  \n82    56.261278  13705.183348 -0.002272  \n90    29.137070  13689.258861 -0.002929  \n98    21.794143  13691.957069 -0.003605  \n106   35.304522  13690.888801 -0.003811  \n114   49.199846  13684.581860  0.003995  ",
      "text/html": "<div>\n<style scoped>\n    .dataframe tbody tr th:only-of-type {\n        vertical-align: middle;\n    }\n\n    .dataframe tbody tr th {\n        vertical-align: top;\n    }\n\n    .dataframe thead th {\n        text-align: right;\n    }\n</style>\n<table border=\"1\" class=\"dataframe\">\n  <thead>\n    <tr style=\"text-align: right;\">\n      <th></th>\n      <th>timestamp</th>\n      <th>Asset_ID</th>\n      <th>Count</th>\n      <th>Open</th>\n      <th>High</th>\n      <th>Low</th>\n      <th>Close</th>\n      <th>Volume</th>\n      <th>VWAP</th>\n      <th>Target</th>\n    </tr>\n  </thead>\n  <tbody>\n    <tr>\n      <th>2</th>\n      <td>1514764860</td>\n      <td>2</td>\n      <td>229.0</td>\n      <td>13835.194</td>\n      <td>14013.8</td>\n      <td>13666.11</td>\n      <td>13850.176</td>\n      <td>31.550062</td>\n      <td>13827.062093</td>\n      <td>-0.014643</td>\n    </tr>\n    <tr>\n      <th>10</th>\n      <td>1514764920</td>\n      <td>2</td>\n      <td>235.0</td>\n      <td>13835.036</td>\n      <td>14052.3</td>\n      <td>13680.00</td>\n      <td>13828.102</td>\n      <td>31.046432</td>\n      <td>13840.362591</td>\n      <td>-0.015037</td>\n    </tr>\n    <tr>\n      <th>18</th>\n      <td>1514764980</td>\n      <td>2</td>\n      <td>528.0</td>\n      <td>13823.900</td>\n      <td>14000.4</td>\n      <td>13601.00</td>\n      <td>13801.314</td>\n      <td>55.061820</td>\n      <td>13806.068014</td>\n      <td>-0.010309</td>\n    </tr>\n    <tr>\n      <th>26</th>\n      <td>1514765040</td>\n      <td>2</td>\n      <td>435.0</td>\n      <td>13802.512</td>\n      <td>13999.0</td>\n      <td>13576.28</td>\n      <td>13768.040</td>\n      <td>38.780529</td>\n      <td>13783.598101</td>\n      <td>-0.008999</td>\n    </tr>\n    <tr>\n      <th>34</th>\n      <td>1514765100</td>\n      <td>2</td>\n      <td>742.0</td>\n      <td>13766.000</td>\n      <td>13955.9</td>\n      <td>13554.44</td>\n      <td>13724.914</td>\n      <td>108.501637</td>\n      <td>13735.586842</td>\n      <td>-0.008079</td>\n    </tr>\n    <tr>\n      <th>42</th>\n      <td>1514765160</td>\n      <td>2</td>\n      <td>554.0</td>\n      <td>13717.714</td>\n      <td>14000.7</td>\n      <td>13520.00</td>\n      <td>13717.112</td>\n      <td>70.805776</td>\n      <td>13706.952030</td>\n      <td>-0.004422</td>\n    </tr>\n    <tr>\n      <th>50</th>\n      <td>1514765220</td>\n      <td>2</td>\n      <td>546.0</td>\n      <td>13720.922</td>\n      <td>14001.4</td>\n      <td>13501.01</td>\n      <td>13670.940</td>\n      <td>70.762103</td>\n      <td>13683.843336</td>\n      <td>-0.008873</td>\n    </tr>\n    <tr>\n      <th>58</th>\n      <td>1514765280</td>\n      <td>2</td>\n      <td>437.0</td>\n      <td>13669.246</td>\n      <td>13914.6</td>\n      <td>13504.99</td>\n      <td>13721.348</td>\n      <td>78.298555</td>\n      <td>13701.600413</td>\n      <td>-0.008492</td>\n    </tr>\n    <tr>\n      <th>66</th>\n      <td>1514765340</td>\n      <td>2</td>\n      <td>288.0</td>\n      <td>13713.412</td>\n      <td>13948.9</td>\n      <td>13539.99</td>\n      <td>13720.260</td>\n      <td>60.100796</td>\n      <td>13720.524584</td>\n      <td>-0.006282</td>\n    </tr>\n    <tr>\n      <th>74</th>\n      <td>1514765400</td>\n      <td>2</td>\n      <td>270.0</td>\n      <td>13713.610</td>\n      <td>13948.5</td>\n      <td>13530.00</td>\n      <td>13719.902</td>\n      <td>56.578007</td>\n      <td>13711.904983</td>\n      <td>-0.003889</td>\n    </tr>\n    <tr>\n      <th>82</th>\n      <td>1514765460</td>\n      <td>2</td>\n      <td>332.0</td>\n      <td>13719.018</td>\n      <td>13948.6</td>\n      <td>13400.01</td>\n      <td>13706.596</td>\n      <td>56.261278</td>\n      <td>13705.183348</td>\n      <td>-0.002272</td>\n    </tr>\n    <tr>\n      <th>90</th>\n      <td>1514765520</td>\n      <td>2</td>\n      <td>251.0</td>\n      <td>13703.404</td>\n      <td>13902.8</td>\n      <td>13485.41</td>\n      <td>13690.992</td>\n      <td>29.137070</td>\n      <td>13689.258861</td>\n      <td>-0.002929</td>\n    </tr>\n    <tr>\n      <th>98</th>\n      <td>1514765580</td>\n      <td>2</td>\n      <td>257.0</td>\n      <td>13690.790</td>\n      <td>13900.0</td>\n      <td>13473.47</td>\n      <td>13696.638</td>\n      <td>21.794143</td>\n      <td>13691.957069</td>\n      <td>-0.003605</td>\n    </tr>\n    <tr>\n      <th>106</th>\n      <td>1514765640</td>\n      <td>2</td>\n      <td>243.0</td>\n      <td>13688.492</td>\n      <td>13876.0</td>\n      <td>13500.35</td>\n      <td>13697.658</td>\n      <td>35.304522</td>\n      <td>13690.888801</td>\n      <td>-0.003811</td>\n    </tr>\n    <tr>\n      <th>114</th>\n      <td>1514765700</td>\n      <td>2</td>\n      <td>250.0</td>\n      <td>13702.502</td>\n      <td>13893.9</td>\n      <td>13505.00</td>\n      <td>13678.486</td>\n      <td>49.199846</td>\n      <td>13684.581860</td>\n      <td>0.003995</td>\n    </tr>\n  </tbody>\n</table>\n</div>"
     },
     "execution_count": 25,
     "metadata": {},
     "output_type": "execute_result"
    }
   ],
   "source": [
    "train_df.loc[train_df['Asset_ID'] == 2].head(15)"
   ],
   "metadata": {
    "collapsed": false,
    "pycharm": {
     "name": "#%%\n"
    }
   }
  },
  {
   "cell_type": "code",
   "execution_count": 27,
   "outputs": [],
   "source": [
    "btc = train_df[train_df[\"Asset_ID\"]==2].set_index(\"timestamp\")"
   ],
   "metadata": {
    "collapsed": false,
    "pycharm": {
     "name": "#%%\n"
    }
   }
  },
  {
   "cell_type": "code",
   "execution_count": 41,
   "outputs": [
    {
     "data": {
      "text/plain": "            Asset_ID  Count       Open      High       Low      Close  \\\ntimestamp                                                               \n1514764860         2  229.0  13835.194  14013.80  13666.11  13850.176   \n1514764920         2  235.0  13835.036  14052.30  13680.00  13828.102   \n1514764980         2  528.0  13823.900  14000.40  13601.00  13801.314   \n1514765040         2  435.0  13802.512  13999.00  13576.28  13768.040   \n1514765100         2  742.0  13766.000  13955.90  13554.44  13724.914   \n1514765160         2  554.0  13717.714  14000.70  13520.00  13717.112   \n1514765220         2  546.0  13720.922  14001.40  13501.01  13670.940   \n1514765280         2  437.0  13669.246  13914.60  13504.99  13721.348   \n1514765340         2  288.0  13713.412  13948.90  13539.99  13720.260   \n1514765400         2  270.0  13713.610  13948.50  13530.00  13719.902   \n1514765460         2  332.0  13719.018  13948.60  13400.01  13706.596   \n1514765520         2  251.0  13703.404  13902.80  13485.41  13690.992   \n1514765580         2  257.0  13690.790  13900.00  13473.47  13696.638   \n1514765640         2  243.0  13688.492  13876.00  13500.35  13697.658   \n1514765700         2  250.0  13702.502  13893.90  13505.00  13678.486   \n1514765760         2  392.0  13620.185  13702.71  13450.39  13604.025   \n\n                Volume          VWAP    Target  \ntimestamp                                       \n1514764860   31.550062  13827.062093 -0.014643  \n1514764920   31.046432  13840.362591 -0.015037  \n1514764980   55.061820  13806.068014 -0.010309  \n1514765040   38.780529  13783.598101 -0.008999  \n1514765100  108.501637  13735.586842 -0.008079  \n1514765160   70.805776  13706.952030 -0.004422  \n1514765220   70.762103  13683.843336 -0.008873  \n1514765280   78.298555  13701.600413 -0.008492  \n1514765340   60.100796  13720.524584 -0.006282  \n1514765400   56.578007  13711.904983 -0.003889  \n1514765460   56.261278  13705.183348 -0.002272  \n1514765520   29.137070  13689.258861 -0.002929  \n1514765580   21.794143  13691.957069 -0.003605  \n1514765640   35.304522  13690.888801 -0.003811  \n1514765700   49.199846  13684.581860  0.003995  \n1514765760   55.076481  13607.979813  0.003169  ",
      "text/html": "<div>\n<style scoped>\n    .dataframe tbody tr th:only-of-type {\n        vertical-align: middle;\n    }\n\n    .dataframe tbody tr th {\n        vertical-align: top;\n    }\n\n    .dataframe thead th {\n        text-align: right;\n    }\n</style>\n<table border=\"1\" class=\"dataframe\">\n  <thead>\n    <tr style=\"text-align: right;\">\n      <th></th>\n      <th>Asset_ID</th>\n      <th>Count</th>\n      <th>Open</th>\n      <th>High</th>\n      <th>Low</th>\n      <th>Close</th>\n      <th>Volume</th>\n      <th>VWAP</th>\n      <th>Target</th>\n    </tr>\n    <tr>\n      <th>timestamp</th>\n      <th></th>\n      <th></th>\n      <th></th>\n      <th></th>\n      <th></th>\n      <th></th>\n      <th></th>\n      <th></th>\n      <th></th>\n    </tr>\n  </thead>\n  <tbody>\n    <tr>\n      <th>1514764860</th>\n      <td>2</td>\n      <td>229.0</td>\n      <td>13835.194</td>\n      <td>14013.80</td>\n      <td>13666.11</td>\n      <td>13850.176</td>\n      <td>31.550062</td>\n      <td>13827.062093</td>\n      <td>-0.014643</td>\n    </tr>\n    <tr>\n      <th>1514764920</th>\n      <td>2</td>\n      <td>235.0</td>\n      <td>13835.036</td>\n      <td>14052.30</td>\n      <td>13680.00</td>\n      <td>13828.102</td>\n      <td>31.046432</td>\n      <td>13840.362591</td>\n      <td>-0.015037</td>\n    </tr>\n    <tr>\n      <th>1514764980</th>\n      <td>2</td>\n      <td>528.0</td>\n      <td>13823.900</td>\n      <td>14000.40</td>\n      <td>13601.00</td>\n      <td>13801.314</td>\n      <td>55.061820</td>\n      <td>13806.068014</td>\n      <td>-0.010309</td>\n    </tr>\n    <tr>\n      <th>1514765040</th>\n      <td>2</td>\n      <td>435.0</td>\n      <td>13802.512</td>\n      <td>13999.00</td>\n      <td>13576.28</td>\n      <td>13768.040</td>\n      <td>38.780529</td>\n      <td>13783.598101</td>\n      <td>-0.008999</td>\n    </tr>\n    <tr>\n      <th>1514765100</th>\n      <td>2</td>\n      <td>742.0</td>\n      <td>13766.000</td>\n      <td>13955.90</td>\n      <td>13554.44</td>\n      <td>13724.914</td>\n      <td>108.501637</td>\n      <td>13735.586842</td>\n      <td>-0.008079</td>\n    </tr>\n    <tr>\n      <th>1514765160</th>\n      <td>2</td>\n      <td>554.0</td>\n      <td>13717.714</td>\n      <td>14000.70</td>\n      <td>13520.00</td>\n      <td>13717.112</td>\n      <td>70.805776</td>\n      <td>13706.952030</td>\n      <td>-0.004422</td>\n    </tr>\n    <tr>\n      <th>1514765220</th>\n      <td>2</td>\n      <td>546.0</td>\n      <td>13720.922</td>\n      <td>14001.40</td>\n      <td>13501.01</td>\n      <td>13670.940</td>\n      <td>70.762103</td>\n      <td>13683.843336</td>\n      <td>-0.008873</td>\n    </tr>\n    <tr>\n      <th>1514765280</th>\n      <td>2</td>\n      <td>437.0</td>\n      <td>13669.246</td>\n      <td>13914.60</td>\n      <td>13504.99</td>\n      <td>13721.348</td>\n      <td>78.298555</td>\n      <td>13701.600413</td>\n      <td>-0.008492</td>\n    </tr>\n    <tr>\n      <th>1514765340</th>\n      <td>2</td>\n      <td>288.0</td>\n      <td>13713.412</td>\n      <td>13948.90</td>\n      <td>13539.99</td>\n      <td>13720.260</td>\n      <td>60.100796</td>\n      <td>13720.524584</td>\n      <td>-0.006282</td>\n    </tr>\n    <tr>\n      <th>1514765400</th>\n      <td>2</td>\n      <td>270.0</td>\n      <td>13713.610</td>\n      <td>13948.50</td>\n      <td>13530.00</td>\n      <td>13719.902</td>\n      <td>56.578007</td>\n      <td>13711.904983</td>\n      <td>-0.003889</td>\n    </tr>\n    <tr>\n      <th>1514765460</th>\n      <td>2</td>\n      <td>332.0</td>\n      <td>13719.018</td>\n      <td>13948.60</td>\n      <td>13400.01</td>\n      <td>13706.596</td>\n      <td>56.261278</td>\n      <td>13705.183348</td>\n      <td>-0.002272</td>\n    </tr>\n    <tr>\n      <th>1514765520</th>\n      <td>2</td>\n      <td>251.0</td>\n      <td>13703.404</td>\n      <td>13902.80</td>\n      <td>13485.41</td>\n      <td>13690.992</td>\n      <td>29.137070</td>\n      <td>13689.258861</td>\n      <td>-0.002929</td>\n    </tr>\n    <tr>\n      <th>1514765580</th>\n      <td>2</td>\n      <td>257.0</td>\n      <td>13690.790</td>\n      <td>13900.00</td>\n      <td>13473.47</td>\n      <td>13696.638</td>\n      <td>21.794143</td>\n      <td>13691.957069</td>\n      <td>-0.003605</td>\n    </tr>\n    <tr>\n      <th>1514765640</th>\n      <td>2</td>\n      <td>243.0</td>\n      <td>13688.492</td>\n      <td>13876.00</td>\n      <td>13500.35</td>\n      <td>13697.658</td>\n      <td>35.304522</td>\n      <td>13690.888801</td>\n      <td>-0.003811</td>\n    </tr>\n    <tr>\n      <th>1514765700</th>\n      <td>2</td>\n      <td>250.0</td>\n      <td>13702.502</td>\n      <td>13893.90</td>\n      <td>13505.00</td>\n      <td>13678.486</td>\n      <td>49.199846</td>\n      <td>13684.581860</td>\n      <td>0.003995</td>\n    </tr>\n    <tr>\n      <th>1514765760</th>\n      <td>2</td>\n      <td>392.0</td>\n      <td>13620.185</td>\n      <td>13702.71</td>\n      <td>13450.39</td>\n      <td>13604.025</td>\n      <td>55.076481</td>\n      <td>13607.979813</td>\n      <td>0.003169</td>\n    </tr>\n  </tbody>\n</table>\n</div>"
     },
     "execution_count": 41,
     "metadata": {},
     "output_type": "execute_result"
    }
   ],
   "source": [
    "btc.head(16)"
   ],
   "metadata": {
    "collapsed": false,
    "pycharm": {
     "name": "#%%\n"
    }
   }
  },
  {
   "cell_type": "code",
   "execution_count": 29,
   "outputs": [],
   "source": [
    "btc_mini_2021 = btc[:200]"
   ],
   "metadata": {
    "collapsed": false,
    "pycharm": {
     "name": "#%%\n"
    }
   }
  },
  {
   "cell_type": "code",
   "execution_count": 86,
   "outputs": [],
   "source": [
    "# define function to compute log returns\n",
    "def log_return(series, periods=1):\n",
    "    return -np.log(series).diff(periods=periods)"
   ],
   "metadata": {
    "collapsed": false,
    "pycharm": {
     "name": "#%%\n"
    }
   }
  },
  {
   "cell_type": "code",
   "execution_count": 88,
   "outputs": [
    {
     "name": "stdout",
     "output_type": "stream",
     "text": [
      "timestamp\n",
      "1514764860   -0.017932\n",
      "1514764920   -0.014751\n",
      "1514764980   -0.015151\n",
      "1514765040   -0.010362\n",
      "1514765100   -0.009040\n",
      "1514765160   -0.008112\n",
      "1514765220   -0.004432\n",
      "1514765280   -0.008912\n",
      "1514765340   -0.008528\n",
      "1514765400   -0.006301\n",
      "Name: Close, dtype: float64\n"
     ]
    }
   ],
   "source": [
    "period = -15\n",
    "lret_btc = log_return(btc_mini_2021.Close,periods=period)#[:period] #skip first row\n",
    "print(lret_btc[:10])"
   ],
   "metadata": {
    "collapsed": false,
    "pycharm": {
     "name": "#%%\n"
    }
   }
  },
  {
   "cell_type": "code",
   "execution_count": 90,
   "outputs": [
    {
     "name": "stderr",
     "output_type": "stream",
     "text": [
      "/home/edoardo/anaconda3/envs/gresearch_kaggle/lib/python3.7/site-packages/pandas/core/indexing.py:723: SettingWithCopyWarning: \n",
      "A value is trying to be set on a copy of a slice from a DataFrame\n",
      "\n",
      "See the caveats in the documentation: https://pandas.pydata.org/pandas-docs/stable/user_guide/indexing.html#returning-a-view-versus-a-copy\n",
      "  iloc._setitem_with_indexer(indexer, value, self.name)\n"
     ]
    }
   ],
   "source": [
    "btc_mini_2021.loc[\"Target_single\"]=lret_btc"
   ],
   "metadata": {
    "collapsed": false,
    "pycharm": {
     "name": "#%%\n"
    }
   }
  },
  {
   "cell_type": "code",
   "execution_count": 95,
   "outputs": [
    {
     "data": {
      "text/plain": "            Asset_ID  Count       Open     High       Low      Close  \\\ntimestamp                                                              \n1514764860       2.0  229.0  13835.194  14013.8  13666.11  13850.176   \n1514764920       2.0  235.0  13835.036  14052.3  13680.00  13828.102   \n1514764980       2.0  528.0  13823.900  14000.4  13601.00  13801.314   \n1514765040       2.0  435.0  13802.512  13999.0  13576.28  13768.040   \n1514765100       2.0  742.0  13766.000  13955.9  13554.44  13724.914   \n\n                Volume          VWAP    Target  Target_single  \ntimestamp                                                      \n1514764860   31.550062  13827.062093 -0.014643      -0.017932  \n1514764920   31.046432  13840.362591 -0.015037      -0.014751  \n1514764980   55.061820  13806.068014 -0.010309      -0.015151  \n1514765040   38.780529  13783.598101 -0.008999      -0.010362  \n1514765100  108.501637  13735.586842 -0.008079      -0.009040  ",
      "text/html": "<div>\n<style scoped>\n    .dataframe tbody tr th:only-of-type {\n        vertical-align: middle;\n    }\n\n    .dataframe tbody tr th {\n        vertical-align: top;\n    }\n\n    .dataframe thead th {\n        text-align: right;\n    }\n</style>\n<table border=\"1\" class=\"dataframe\">\n  <thead>\n    <tr style=\"text-align: right;\">\n      <th></th>\n      <th>Asset_ID</th>\n      <th>Count</th>\n      <th>Open</th>\n      <th>High</th>\n      <th>Low</th>\n      <th>Close</th>\n      <th>Volume</th>\n      <th>VWAP</th>\n      <th>Target</th>\n      <th>Target_single</th>\n    </tr>\n    <tr>\n      <th>timestamp</th>\n      <th></th>\n      <th></th>\n      <th></th>\n      <th></th>\n      <th></th>\n      <th></th>\n      <th></th>\n      <th></th>\n      <th></th>\n      <th></th>\n    </tr>\n  </thead>\n  <tbody>\n    <tr>\n      <th>1514764860</th>\n      <td>2.0</td>\n      <td>229.0</td>\n      <td>13835.194</td>\n      <td>14013.8</td>\n      <td>13666.11</td>\n      <td>13850.176</td>\n      <td>31.550062</td>\n      <td>13827.062093</td>\n      <td>-0.014643</td>\n      <td>-0.017932</td>\n    </tr>\n    <tr>\n      <th>1514764920</th>\n      <td>2.0</td>\n      <td>235.0</td>\n      <td>13835.036</td>\n      <td>14052.3</td>\n      <td>13680.00</td>\n      <td>13828.102</td>\n      <td>31.046432</td>\n      <td>13840.362591</td>\n      <td>-0.015037</td>\n      <td>-0.014751</td>\n    </tr>\n    <tr>\n      <th>1514764980</th>\n      <td>2.0</td>\n      <td>528.0</td>\n      <td>13823.900</td>\n      <td>14000.4</td>\n      <td>13601.00</td>\n      <td>13801.314</td>\n      <td>55.061820</td>\n      <td>13806.068014</td>\n      <td>-0.010309</td>\n      <td>-0.015151</td>\n    </tr>\n    <tr>\n      <th>1514765040</th>\n      <td>2.0</td>\n      <td>435.0</td>\n      <td>13802.512</td>\n      <td>13999.0</td>\n      <td>13576.28</td>\n      <td>13768.040</td>\n      <td>38.780529</td>\n      <td>13783.598101</td>\n      <td>-0.008999</td>\n      <td>-0.010362</td>\n    </tr>\n    <tr>\n      <th>1514765100</th>\n      <td>2.0</td>\n      <td>742.0</td>\n      <td>13766.000</td>\n      <td>13955.9</td>\n      <td>13554.44</td>\n      <td>13724.914</td>\n      <td>108.501637</td>\n      <td>13735.586842</td>\n      <td>-0.008079</td>\n      <td>-0.009040</td>\n    </tr>\n  </tbody>\n</table>\n</div>"
     },
     "execution_count": 95,
     "metadata": {},
     "output_type": "execute_result"
    }
   ],
   "source": [
    "btc_mini_2021.head()"
   ],
   "metadata": {
    "collapsed": false,
    "pycharm": {
     "name": "#%%\n"
    }
   }
  },
  {
   "cell_type": "code",
   "execution_count": 99,
   "outputs": [
    {
     "name": "stdout",
     "output_type": "stream",
     "text": [
      "i:1514764860 | Count:229.0 Open:13835.194 High:14013.8 Low:13666.11 Close:13850.176 Volume:31.55006152\n",
      "i:1514764920 | Count:235.0 Open:13835.035999999998 High:14052.3 Low:13680.0 Close:13828.102000000004 Volume:31.046432110000005\n",
      "None\n"
     ]
    }
   ],
   "source": [
    "def convert_to_vw(dataframe):\n",
    "    f = open(os.path.join(PATH_TO_ALL_DATA,'train_vw.vw'), 'v')\n",
    "    for i,item in dataframe.iterrows():\n",
    "        f.write(f\"i:{i} | Count:{item.Count} Open:{item.Open} High:{item.High} Low:{item.Low} Close:{item.Close} Volume:{item.Volume}\")\n",
    "        f.write('\\n')\n",
    "\n",
    "print(convert_to_vw(btc_mini_2021[:2]))"
   ],
   "metadata": {
    "collapsed": false,
    "pycharm": {
     "name": "#%%\n"
    }
   }
  }
 ],
 "metadata": {
  "kernelspec": {
   "display_name": "Python 3",
   "language": "python",
   "name": "python3"
  },
  "language_info": {
   "codemirror_mode": {
    "name": "ipython",
    "version": 2
   },
   "file_extension": ".py",
   "mimetype": "text/x-python",
   "name": "python",
   "nbconvert_exporter": "python",
   "pygments_lexer": "ipython2",
   "version": "2.7.6"
  }
 },
 "nbformat": 4,
 "nbformat_minor": 0
}